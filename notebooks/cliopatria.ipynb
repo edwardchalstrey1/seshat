{
 "cells": [
  {
   "cell_type": "markdown",
   "metadata": {},
   "source": [
    "# Cliopatria viewer\n",
    "\n",
    "1. To get started, download a copy of the Cliopatria dataset from here: `[INSERT LINK]`\n",
    "2. `(OPTIONAL)` You can also download the GADM modern borders dataset from here `[INSERT LINK]`\n",
    "3. Move the downloaded shape dataset(s) to an appropriate location on your machine and pass in the paths in the code cell below and run\n",
    "4. Run the subsequent cells of the notebook\n"
   ]
  },
  {
   "cell_type": "code",
   "execution_count": 2,
   "metadata": {},
   "outputs": [],
   "source": [
    "from map_functions import cliopatria_gdf, create_map\n",
    "import folium\n",
    "import ipywidgets as widgets\n",
    "from IPython.display import display"
   ]
  },
  {
   "cell_type": "code",
   "execution_count": 3,
   "metadata": {},
   "outputs": [],
   "source": [
    "# cliopatria_path = \"path/to/cliopatria_dir/\"\n",
    "# gadm_path = \"path/to/gadm_410.gpkg\"\n",
    "cliopatria_geojson_path = \"../data/cliopatria_05192024/cliopatria.geojson\"\n",
    "cliopatria_json_path = \"../data/cliopatria_05192024/name_years.json\"\n",
    "gadm_path = \"../data/gadm_410.gpkg\""
   ]
  },
  {
   "cell_type": "code",
   "execution_count": 4,
   "metadata": {},
   "outputs": [],
   "source": [
    "# Load the GADM geopackage\n",
    "# gadm = gpd.read_file(gadm_path)\n",
    "# print(gadm.head())"
   ]
  },
  {
   "cell_type": "code",
   "execution_count": 5,
   "metadata": {},
   "outputs": [],
   "source": [
    "# gadm_countries = gadm.dissolve(by=\"COUNTRY\").reset_index()\n",
    "# gadm_countries['geom'] = gadm_countries['geom'].simplify(0.01)"
   ]
  },
  {
   "cell_type": "code",
   "execution_count": 6,
   "metadata": {},
   "outputs": [
    {
     "name": "stdout",
     "output_type": "stream",
     "text": [
      "                             Name  Year      Area_km2    Type  \\\n",
      "0            Sumerian City-States -3400  22083.609657  POLITY   \n",
      "1            Sumerian City-States -3200  35508.841506  POLITY   \n",
      "2                            Elam -3200   4919.440675  POLITY   \n",
      "3            Sumerian City-States -3000  45135.556672  POLITY   \n",
      "4  Early Dynastic Period of Egypt -3000  92480.979261  POLITY   \n",
      "\n",
      "                       Wikipedia     Color      SeshatID Member_of Components  \\\n",
      "0               History of Sumer  0x800000                                      \n",
      "1               History of Sumer  0x800000                                      \n",
      "2                           Elam  0xd9b800                                      \n",
      "3               History of Sumer  0x800000                                      \n",
      "4  Early Dynastic Period (Egypt)  0x808000  eg_dynasty_1                        \n",
      "\n",
      "                                            geometry EndYear  \n",
      "0  POLYGON ((46.58681 31.27192, 46.43482 31.27192...   -3201  \n",
      "1  POLYGON ((46.87564 31.14338, 46.55646 31.65753...   -3001  \n",
      "2  POLYGON ((48.65172 32.55735, 48.34636 32.55735...   -2701  \n",
      "3  POLYGON ((46.47702 30.30789, 46.62852 30.30789...   -2701  \n",
      "4  POLYGON ((32.90918 30.17935, 32.92628 30.43643...   -2701  \n"
     ]
    }
   ],
   "source": [
    "# Load the Cliopatria data to a GeoDataFrame including end years for each shape\n",
    "gdf = cliopatria_gdf(cliopatria_geojson_path, cliopatria_json_path)\n",
    "print(gdf.head())"
   ]
  },
  {
   "cell_type": "code",
   "execution_count": 9,
   "metadata": {
    "vscode": {
     "languageId": "markdown"
    }
   },
   "outputs": [
    {
     "data": {
      "application/vnd.jupyter.widget-view+json": {
       "model_id": "8b151cce0d01454f96a34c7b395c317f",
       "version_major": 2,
       "version_minor": 0
      },
      "text/plain": [
       "IntText(value=0, description='Year:')"
      ]
     },
     "metadata": {},
     "output_type": "display_data"
    },
    {
     "data": {
      "application/vnd.jupyter.widget-view+json": {
       "model_id": "5769f5e227964df08e70a9eb40dd3f13",
       "version_major": 2,
       "version_minor": 0
      },
      "text/plain": [
       "IntSlider(value=0, description='Year:', max=2024, min=-3400)"
      ]
     },
     "metadata": {},
     "output_type": "display_data"
    },
    {
     "data": {
      "application/vnd.jupyter.widget-view+json": {
       "model_id": "88c08eadd393457bb5bdc853742a77fa",
       "version_major": 2,
       "version_minor": 0
      },
      "text/plain": [
       "Button(description='Play', style=ButtonStyle())"
      ]
     },
     "metadata": {},
     "output_type": "display_data"
    },
    {
     "data": {
      "application/vnd.jupyter.widget-view+json": {
       "model_id": "baa840a5cfa2461794cbfed1e5ff5b95",
       "version_major": 2,
       "version_minor": 0
      },
      "text/plain": [
       "Button(description='Pause', style=ButtonStyle())"
      ]
     },
     "metadata": {},
     "output_type": "display_data"
    },
    {
     "data": {
      "application/vnd.jupyter.widget-view+json": {
       "model_id": "89320424182044ac95bda1312f36c293",
       "version_major": 2,
       "version_minor": 0
      },
      "text/plain": [
       "Output()"
      ]
     },
     "metadata": {},
     "output_type": "display_data"
    }
   ],
   "source": [
    "# Initial year to display\n",
    "display_year = 0\n",
    "\n",
    "# Create a text box for input\n",
    "year_input = widgets.IntText(\n",
    "    value=display_year,\n",
    "    description='Year:',\n",
    ")\n",
    "\n",
    "# Define a function to be called when the value of the text box changes\n",
    "def on_value_change(change):\n",
    "    create_map(change['new'], gdf, map_output)\n",
    "\n",
    "# Create a slider for input\n",
    "year_slider = widgets.IntSlider(\n",
    "    value=display_year,\n",
    "    min=gdf['Year'].min(),\n",
    "    max=gdf['EndYear'].max(),\n",
    "    description='Year:',\n",
    ")\n",
    "\n",
    "# Link the text box and the slider\n",
    "widgets.jslink((year_input, 'value'), (year_slider, 'value'))\n",
    "\n",
    "# Create an output widget\n",
    "map_output = widgets.Output()\n",
    "\n",
    "# Create play and pause buttons\n",
    "play_button = widgets.Button(description=\"Play\")\n",
    "pause_button = widgets.Button(description=\"Pause\")\n",
    "\n",
    "# Define the function to be called when the play button is clicked\n",
    "def on_play_button_clicked(b):\n",
    "    global is_playing\n",
    "    is_playing = True\n",
    "    while is_playing and year_slider.value < year_slider.max:\n",
    "        year_slider.value += 1\n",
    "        create_map(year_slider.value, gdf, map_output)  # Update the map after changing the slider value\n",
    "        if not is_playing:\n",
    "            break\n",
    "        time.sleep(0.5)\n",
    "        if not is_playing:\n",
    "            break\n",
    "\n",
    "# Define the function to be called when the pause button is clicked\n",
    "def on_pause_button_clicked(b):\n",
    "    global is_playing\n",
    "    is_playing = False\n",
    "\n",
    "# Create a boolean variable to control the play and pause state\n",
    "is_playing = False\n",
    "\n",
    "# Create a folium map centered at the center of the world\n",
    "m = folium.Map(location=[0, 0], zoom_start=2, tiles='https://a.basemaps.cartocdn.com/rastertiles/voyager_nolabels/{z}/{x}/{y}.png', attr='CartoDB')\n",
    "\n",
    "# Attach the function to the text box\n",
    "year_input.observe(on_value_change, names='value')\n",
    "\n",
    "# Attach the function to the play button\n",
    "play_button.on_click(on_play_button_clicked)\n",
    "\n",
    "# Attach the function to the pause button\n",
    "pause_button.on_click(on_pause_button_clicked)\n",
    "\n",
    "# Display the widgets\n",
    "display(year_input, year_slider, play_button, pause_button, map_output)\n",
    "\n",
    "# Create the map with the default year\n",
    "create_map(display_year, gdf, map_output)"
   ]
  }
 ],
 "metadata": {
  "kernelspec": {
   "display_name": "Python (cliopatria)",
   "language": "python",
   "name": "cliopatria"
  },
  "language_info": {
   "codemirror_mode": {
    "name": "ipython",
    "version": 3
   },
   "file_extension": ".py",
   "mimetype": "text/x-python",
   "name": "python",
   "nbconvert_exporter": "python",
   "pygments_lexer": "ipython3",
   "version": "3.11.4"
  }
 },
 "nbformat": 4,
 "nbformat_minor": 4
}
