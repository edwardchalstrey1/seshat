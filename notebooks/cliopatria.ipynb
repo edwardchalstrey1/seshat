{
 "cells": [
  {
   "cell_type": "markdown",
   "metadata": {},
   "source": [
    "# Cliopatria viewer\n",
    "\n",
    "1. To get started, download a copy of the Cliopatria dataset from here: `[INSERT LINK]`\n",
    "2. `(OPTIONAL)` You can also download the GADM modern borders dataset from here `[INSERT LINK]`\n",
    "3. Move the downloaded shape dataset(s) to an appropriate location on your machine and pass in the paths in the code cell below and run\n",
    "4. Run the subsequent cells of the notebook\n"
   ]
  },
  {
   "cell_type": "code",
   "execution_count": null,
   "metadata": {
    "vscode": {
     "languageId": "plaintext"
    }
   },
   "outputs": [],
   "source": [
    "cliopatria_path = \"path/to/cliopatria_dir/\"\n",
    "gadm_path = \"path/to/gadm_410.gpkg\""
   ]
  },
  {
   "cell_type": "code",
   "execution_count": null,
   "metadata": {
    "vscode": {
     "languageId": "plaintext"
    }
   },
   "outputs": [],
   "source": []
  }
 ],
 "metadata": {
  "language_info": {
   "name": "python"
  }
 },
 "nbformat": 4,
 "nbformat_minor": 2
}
