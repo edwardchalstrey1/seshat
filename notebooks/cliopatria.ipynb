{
 "cells": [
  {
   "cell_type": "markdown",
   "metadata": {},
   "source": [
    "# Cliopatria viewer\n",
    "\n",
    "1. To get started, download a copy of the Cliopatria dataset from here: `[INSERT LINK]`\n",
    "2. Move the downloaded shape dataset(s) to an appropriate location on your machine and pass in the paths in the code cell below and run\n",
    "3. Run the subsequent cells of the notebook\n"
   ]
  },
  {
   "cell_type": "code",
   "execution_count": 1,
   "metadata": {},
   "outputs": [],
   "source": [
    "from map_functions import cliopatria_gdf, create_map\n",
    "import folium\n",
    "import ipywidgets as widgets\n",
    "from IPython.display import display"
   ]
  },
  {
   "cell_type": "code",
   "execution_count": 2,
   "metadata": {},
   "outputs": [],
   "source": [
    "cliopatria_geojson_path = \"../data/cliopatria_05192024/cliopatria.geojson\"\n",
    "cliopatria_json_path = \"../data/cliopatria_05192024/name_years.json\""
   ]
  },
  {
   "cell_type": "code",
   "execution_count": 5,
   "metadata": {},
   "outputs": [
    {
     "name": "stdout",
     "output_type": "stream",
     "text": [
      "                             Name  Year      Area_km2    Type  \\\n",
      "0            Sumerian City-States -3400  22083.609657  POLITY   \n",
      "1            Sumerian City-States -3200  35508.841506  POLITY   \n",
      "2                            Elam -3200   4919.440675  POLITY   \n",
      "3            Sumerian City-States -3000  45135.556672  POLITY   \n",
      "4  Early Dynastic Period of Egypt -3000  92480.979261  POLITY   \n",
      "\n",
      "                       Wikipedia     Color      SeshatID Member_of Components  \\\n",
      "0               History of Sumer  0x800000                                      \n",
      "1               History of Sumer  0x800000                                      \n",
      "2                           Elam  0xd9b800                                      \n",
      "3               History of Sumer  0x800000                                      \n",
      "4  Early Dynastic Period (Egypt)  0x808000  eg_dynasty_1                        \n",
      "\n",
      "                                            geometry EndYear  \\\n",
      "0  POLYGON ((46.58681 31.27192, 46.43482 31.27192...   -3201   \n",
      "1  POLYGON ((46.87564 31.14338, 46.55646 31.65753...   -3001   \n",
      "2  POLYGON ((48.65172 32.55735, 48.34636 32.55735...   -2701   \n",
      "3  POLYGON ((46.47702 30.30789, 46.62852 30.30789...   -2701   \n",
      "4  POLYGON ((32.90918 30.17935, 32.92628 30.43643...   -2701   \n",
      "\n",
      "                      DisplayName  \n",
      "0            Sumerian City-States  \n",
      "1            Sumerian City-States  \n",
      "2                            Elam  \n",
      "3            Sumerian City-States  \n",
      "4  Early Dynastic Period of Egypt  \n"
     ]
    }
   ],
   "source": [
    "# Load the Cliopatria data to a GeoDataFrame including end years for each shape\n",
    "gdf = cliopatria_gdf(cliopatria_geojson_path, cliopatria_json_path)\n",
    "print(gdf.head())"
   ]
  },
  {
   "cell_type": "code",
   "execution_count": 6,
   "metadata": {},
   "outputs": [
    {
     "data": {
      "application/vnd.jupyter.widget-view+json": {
       "model_id": "dabe4450743d49eb9cc3d223a50a0e48",
       "version_major": 2,
       "version_minor": 0
      },
      "text/plain": [
       "IntText(value=0, description='Year:')"
      ]
     },
     "metadata": {},
     "output_type": "display_data"
    },
    {
     "data": {
      "application/vnd.jupyter.widget-view+json": {
       "model_id": "715c1926dac2478b9852caeae6b40c28",
       "version_major": 2,
       "version_minor": 0
      },
      "text/plain": [
       "IntSlider(value=0, description='Year:', max=2024, min=-3400)"
      ]
     },
     "metadata": {},
     "output_type": "display_data"
    },
    {
     "data": {
      "application/vnd.jupyter.widget-view+json": {
       "model_id": "1a974f43121e40df978083a761a64eea",
       "version_major": 2,
       "version_minor": 0
      },
      "text/plain": [
       "Output()"
      ]
     },
     "metadata": {},
     "output_type": "display_data"
    },
    {
     "name": "stderr",
     "output_type": "stream",
     "text": [
      "/Users/echalstrey/.pyenv/versions/3.11.4/lib/python3.11/site-packages/geopandas/geodataframe.py:1760: SettingWithCopyWarning: \n",
      "A value is trying to be set on a copy of a slice from a DataFrame.\n",
      "Try using .loc[row_indexer,col_indexer] = value instead\n",
      "\n",
      "See the caveats in the documentation: https://pandas.pydata.org/pandas-docs/stable/user_guide/indexing.html#returning-a-view-versus-a-copy\n",
      "  super().__setitem__(key, value)\n"
     ]
    }
   ],
   "source": [
    "# Initial year to display\n",
    "display_year = 0\n",
    "\n",
    "# Create a text box for input\n",
    "year_input = widgets.IntText(\n",
    "    value=display_year,\n",
    "    description='Year:',\n",
    ")\n",
    "\n",
    "# Define a function to be called when the value of the text box changes\n",
    "def on_value_change(change):\n",
    "    create_map(change['new'], gdf, map_output)\n",
    "\n",
    "# Create a slider for input\n",
    "year_slider = widgets.IntSlider(\n",
    "    value=display_year,\n",
    "    min=gdf['Year'].min(),\n",
    "    max=gdf['EndYear'].max(),\n",
    "    description='Year:',\n",
    ")\n",
    "\n",
    "# Link the text box and the slider\n",
    "widgets.jslink((year_input, 'value'), (year_slider, 'value'))\n",
    "\n",
    "# Create an output widget\n",
    "map_output = widgets.Output()\n",
    "\n",
    "# Attach the function to the text box\n",
    "year_input.observe(on_value_change, names='value')\n",
    "\n",
    "# Display the widgets\n",
    "display(year_input, year_slider, map_output)\n",
    "\n",
    "# Call create_map initially to display the map\n",
    "create_map(display_year, gdf, map_output)"
   ]
  }
 ],
 "metadata": {
  "kernelspec": {
   "display_name": "Python (cliopatria)",
   "language": "python",
   "name": "cliopatria"
  },
  "language_info": {
   "codemirror_mode": {
    "name": "ipython",
    "version": 3
   },
   "file_extension": ".py",
   "mimetype": "text/x-python",
   "name": "python",
   "nbconvert_exporter": "python",
   "pygments_lexer": "ipython3",
   "version": "3.11.4"
  }
 },
 "nbformat": 4,
 "nbformat_minor": 4
}
