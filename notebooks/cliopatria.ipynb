{
 "cells": [
  {
   "cell_type": "markdown",
   "metadata": {},
   "source": [
    "# Cliopatria viewer\n",
    "\n",
    "1. To get started, download a copy of the Cliopatria dataset from here: `[INSERT LINK]`\n",
    "2. `(OPTIONAL)` You can also download the GADM modern borders dataset from here `[INSERT LINK]`\n",
    "3. Move the downloaded shape dataset(s) to an appropriate location on your machine and pass in the paths in the code cell below and run\n",
    "4. Run the subsequent cells of the notebook\n"
   ]
  },
  {
   "cell_type": "code",
   "execution_count": 1,
   "metadata": {},
   "outputs": [],
   "source": [
    "# cliopatria_path = \"path/to/cliopatria_dir/\"\n",
    "# gadm_path = \"path/to/gadm_410.gpkg\"\n",
    "cliopatria_geojson_path = \"../data/cliopatria_05192024/cliopatria.geojson\"\n",
    "cliopatria_json_path = \"../data/cliopatria_05192024/name_years.json\"\n",
    "gadm_path = \"../data/gadm_410.gpkg\""
   ]
  },
  {
   "cell_type": "code",
   "execution_count": 2,
   "metadata": {},
   "outputs": [],
   "source": [
    "# Load the GADM geopackage\n",
    "# gadm = gpd.read_file(gadm_path)\n",
    "# print(gadm.head())"
   ]
  },
  {
   "cell_type": "code",
   "execution_count": 3,
   "metadata": {},
   "outputs": [],
   "source": [
    "# gadm_countries = gadm.dissolve(by=\"COUNTRY\").reset_index()\n",
    "# gadm_countries['geom'] = gadm_countries['geom'].simplify(0.01)"
   ]
  },
  {
   "cell_type": "code",
   "execution_count": 4,
   "metadata": {},
   "outputs": [
    {
     "name": "stdout",
     "output_type": "stream",
     "text": [
      "                             Name  Year      Area_km2    Type  \\\n",
      "0            Sumerian City-States -3400  22083.609657  POLITY   \n",
      "1            Sumerian City-States -3200  35508.841506  POLITY   \n",
      "2                            Elam -3200   4919.440675  POLITY   \n",
      "3            Sumerian City-States -3000  45135.556672  POLITY   \n",
      "4  Early Dynastic Period of Egypt -3000  92480.979261  POLITY   \n",
      "\n",
      "                       Wikipedia     Color      SeshatID Member_of Components  \\\n",
      "0               History of Sumer  0x800000                                      \n",
      "1               History of Sumer  0x800000                                      \n",
      "2                           Elam  0xd9b800                                      \n",
      "3               History of Sumer  0x800000                                      \n",
      "4  Early Dynastic Period (Egypt)  0x808000  eg_dynasty_1                        \n",
      "\n",
      "                                            geometry  \n",
      "0  POLYGON ((46.58681 31.27192, 46.43482 31.27192...  \n",
      "1  POLYGON ((46.87564 31.14338, 46.55646 31.65753...  \n",
      "2  POLYGON ((48.65172 32.55735, 48.34636 32.55735...  \n",
      "3  POLYGON ((46.47702 30.30789, 46.62852 30.30789...  \n",
      "4  POLYGON ((32.90918 30.17935, 32.92628 30.43643...  \n"
     ]
    }
   ],
   "source": [
    "import geopandas as gpd\n",
    "\n",
    "# Load the geojson file\n",
    "gdf = gpd.read_file(cliopatria_geojson_path)\n",
    "\n",
    "# Display the loaded data\n",
    "print(gdf.head())"
   ]
  },
  {
   "cell_type": "code",
   "execution_count": 5,
   "metadata": {},
   "outputs": [],
   "source": [
    "# Load the name_years json file\n",
    "import json\n",
    "with open(cliopatria_json_path, 'r') as f:\n",
    "    name_years = json.load(f)"
   ]
  },
  {
   "cell_type": "code",
   "execution_count": 6,
   "metadata": {},
   "outputs": [
    {
     "name": "stdout",
     "output_type": "stream",
     "text": [
      "                             Name  Year      Area_km2    Type  \\\n",
      "0            Sumerian City-States -3400  22083.609657  POLITY   \n",
      "1            Sumerian City-States -3200  35508.841506  POLITY   \n",
      "2                            Elam -3200   4919.440675  POLITY   \n",
      "3            Sumerian City-States -3000  45135.556672  POLITY   \n",
      "4  Early Dynastic Period of Egypt -3000  92480.979261  POLITY   \n",
      "\n",
      "                       Wikipedia     Color      SeshatID Member_of Components  \\\n",
      "0               History of Sumer  0x800000                                      \n",
      "1               History of Sumer  0x800000                                      \n",
      "2                           Elam  0xd9b800                                      \n",
      "3               History of Sumer  0x800000                                      \n",
      "4  Early Dynastic Period (Egypt)  0x808000  eg_dynasty_1                        \n",
      "\n",
      "                                            geometry EndYear  \n",
      "0  POLYGON ((46.58681 31.27192, 46.43482 31.27192...   -3201  \n",
      "1  POLYGON ((46.87564 31.14338, 46.55646 31.65753...   -3001  \n",
      "2  POLYGON ((48.65172 32.55735, 48.34636 32.55735...   -2701  \n",
      "3  POLYGON ((46.47702 30.30789, 46.62852 30.30789...   -2701  \n",
      "4  POLYGON ((32.90918 30.17935, 32.92628 30.43643...   -2701  \n"
     ]
    }
   ],
   "source": [
    "# Add the EndYear column to the geodataframe\n",
    "\n",
    "# Create a new column in the geodataframe\n",
    "gdf['EndYear'] = None\n",
    "\n",
    "# Loop through the geodataframe\n",
    "for i in range(len(gdf)):\n",
    "    # Get the name of the current row\n",
    "    polity_name = gdf.loc[i, 'Name']\n",
    "\n",
    "    # Get the start year of the current row\n",
    "    start_year = gdf.loc[i, 'Year']\n",
    "\n",
    "    # Get a sorted list of the years for that name from the geodataframe\n",
    "    this_polity_years = sorted(gdf[gdf['Name'] == polity_name]['Year'].unique())\n",
    "\n",
    "    # Get the end year for a shape    \n",
    "    # Most of the time, the shape end year is the year of the next shape\n",
    "    # Some polities have a gap in their active years\n",
    "    # For a shape year at the start of a gap, set the end year to be the shape year, so it doesn't cover the inactive period\n",
    "    start_end_years = name_years[polity_name]\n",
    "    end_years = [x[1] for x in start_end_years]\n",
    "\n",
    "    polity_start_year = start_end_years[0][0]\n",
    "    polity_end_year = end_years[-1]\n",
    "\n",
    "    # Raise an error if the shape year is not the start year of the polity\n",
    "    if this_polity_years[0] != polity_start_year:\n",
    "        raise ValueError(f'First shape year for {polity_name} is not the start year of the polity')\n",
    "    \n",
    "    # Find the closest higher value from end_years to the shape year\n",
    "    next_end_year = min(end_years, key=lambda x: x if x >= start_year else float('inf'))\n",
    "\n",
    "    if start_year in end_years:  # If the shape year is in the list of polity end years, the start year is the end year\n",
    "        end_year = start_year\n",
    "    else:\n",
    "        this_year_index = this_polity_years.index(start_year)  \n",
    "        try:  # Try to use the next shape year minus one as the end year if possible, unless it's higher than the next_end_year\n",
    "            next_shape_year_minus_one = this_polity_years[this_year_index + 1] - 1\n",
    "            end_year = next_shape_year_minus_one if next_shape_year_minus_one < next_end_year else next_end_year\n",
    "        except IndexError:  # Otherwise assume the end year of the shape is the end year of the polity\n",
    "            end_year = polity_end_year\n",
    "\n",
    "    # Set the EndYear column to the end year\n",
    "    gdf.loc[i, 'EndYear'] = end_year\n",
    "\n",
    "# Display the updated data\n",
    "print(gdf.head())"
   ]
  },
  {
   "cell_type": "code",
   "execution_count": 22,
   "metadata": {},
   "outputs": [
    {
     "data": {
      "text/plain": [
       "1133"
      ]
     },
     "execution_count": 22,
     "metadata": {},
     "output_type": "execute_result"
    }
   ],
   "source": [
    "len(gdf.Color.unique())"
   ]
  },
  {
   "cell_type": "code",
   "execution_count": 32,
   "metadata": {},
   "outputs": [],
   "source": [
    "import matplotlib.pyplot as plt\n",
    "import contextily as ctx\n",
    "import rasterio\n",
    "from rasterio.plot import show\n",
    "from rasterio.warp import calculate_default_transform, reproject, Resampling\n",
    "from rasterio.io import MemoryFile\n",
    "import requests\n",
    "import folium\n",
    "import ipywidgets as widgets\n",
    "from IPython.display import display, clear_output"
   ]
  },
  {
   "cell_type": "code",
   "execution_count": 26,
   "metadata": {
    "vscode": {
     "languageId": "markdown"
    }
   },
   "outputs": [],
   "source": [
    "def create_map(selected_year):\n",
    "    # Filter the gdf for shapes that overlap with the selected_year\n",
    "    filtered_gdf = gdf[(gdf['Year'] <= selected_year) & (gdf['EndYear'] >= selected_year)]\n",
    "\n",
    "    # Remove '0x' and add '#' to the start of the color strings\n",
    "    filtered_gdf['Color'] = '#' + filtered_gdf['Color'].str.replace('0x', '')\n",
    "\n",
    "    # Transform the CRS of the GeoDataFrame to WGS84 (EPSG:4326)\n",
    "    filtered_gdf = filtered_gdf.to_crs(epsg=4326)\n",
    "\n",
    "    # Create a folium map centered at the center of the world\n",
    "    m = folium.Map(location=[0, 0], zoom_start=2, tiles='https://a.basemaps.cartocdn.com/rastertiles/voyager_nolabels/{z}/{x}/{y}.png', attr='CartoDB')\n",
    "\n",
    "    # Define a function for the style_function parameter\n",
    "    def style_function(feature, color):\n",
    "        return {\n",
    "            'fillColor': color,\n",
    "            'color': color,\n",
    "            'weight': 2,\n",
    "            'fillOpacity': 0.5\n",
    "        }\n",
    "\n",
    "    # Add the polygons to the map\n",
    "    for _, row in filtered_gdf.iterrows():\n",
    "        # Convert the geometry to GeoJSON\n",
    "        geojson = folium.GeoJson(\n",
    "            row.geometry,\n",
    "            style_function=lambda feature, color=row['Color']: style_function(feature, color)\n",
    "        )\n",
    "\n",
    "        # Add the GeoJSON to the map\n",
    "        geojson.add_to(m)\n",
    "\n",
    "    # Display the map\n",
    "    display(m)"
   ]
  },
  {
   "cell_type": "code",
   "execution_count": 37,
   "metadata": {
    "vscode": {
     "languageId": "markdown"
    }
   },
   "outputs": [
    {
     "data": {
      "application/vnd.jupyter.widget-view+json": {
       "model_id": "36ebf152f38041ac94d5cb7346d7d38b",
       "version_major": 2,
       "version_minor": 0
      },
      "text/plain": [
       "IntText(value=0, description='Year:')"
      ]
     },
     "metadata": {},
     "output_type": "display_data"
    },
    {
     "data": {
      "application/vnd.jupyter.widget-view+json": {
       "model_id": "9035036793184305b2033377cdacd940",
       "version_major": 2,
       "version_minor": 0
      },
      "text/plain": [
       "Output()"
      ]
     },
     "metadata": {},
     "output_type": "display_data"
    }
   ],
   "source": [
    "# Initial year to display\n",
    "display_year = 0\n",
    "\n",
    "# Create a text box for input\n",
    "year_input = widgets.IntText(\n",
    "    value=display_year,\n",
    "    description='Year:',\n",
    ")\n",
    "\n",
    "# Create an output widget\n",
    "map_output = widgets.Output()\n",
    "\n",
    "# Display the text box and the output widget\n",
    "display(year_input, map_output)\n",
    "\n",
    "# Define a function to be called when the value of the text box changes\n",
    "def on_value_change(change):\n",
    "    with map_output:\n",
    "        clear_output(wait=True)\n",
    "        create_map(change['new'])\n",
    "\n",
    "# Attach the function to the text box\n",
    "year_input.observe(on_value_change, names='value')\n",
    "\n",
    "# Create the map with the default year\n",
    "with map_output:\n",
    "    create_map(display_year)"
   ]
  }
 ],
 "metadata": {
  "kernelspec": {
   "display_name": "Python (cliopatria)",
   "language": "python",
   "name": "cliopatria"
  },
  "language_info": {
   "codemirror_mode": {
    "name": "ipython",
    "version": 3
   },
   "file_extension": ".py",
   "mimetype": "text/x-python",
   "name": "python",
   "nbconvert_exporter": "python",
   "pygments_lexer": "ipython3",
   "version": "3.11.4"
  }
 },
 "nbformat": 4,
 "nbformat_minor": 4
}
